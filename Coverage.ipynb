{
 "cells": [
  {
   "cell_type": "code",
   "execution_count": 1,
   "id": "516c5d73-1056-4a60-a2cd-735977977790",
   "metadata": {
    "vscode": {
     "languageId": "shellscript"
    }
   },
   "outputs": [
    {
     "name": "stdout",
     "output_type": "stream",
     "text": [
      "/home/jovyan/js_generator/src\n"
     ]
    },
    {
     "name": "stderr",
     "output_type": "stream",
     "text": [
      "/home/jovyan/js_generator/venv/lib/python3.10/site-packages/IPython/core/magics/osm.py:417: UserWarning: This is now an optional IPython functionality, setting dhist requires you to install the `pickleshare` library.\n",
      "  self.shell.db['dhist'] = compress_dhist(dhist)[-100:]\n"
     ]
    }
   ],
   "source": [
    "%cd '/home/jovyan/js_generator/src'"
   ]
  },
  {
   "cell_type": "code",
   "execution_count": 2,
   "id": "8e4703d6-5a35-4da9-b019-55838805f5af",
   "metadata": {
    "vscode": {
     "languageId": "shellscript"
    }
   },
   "outputs": [
    {
     "name": "stdout",
     "output_type": "stream",
     "text": [
      "\u001b[0m\u001b[01;34mGPT\u001b[0m/               \u001b[01;32mmain.py\u001b[0m*                  \u001b[01;32mmontage_fuzz.py\u001b[0m*  \u001b[01;34mutils\u001b[0m/\n",
      "\u001b[01;32mTrain_GPT.ipynb\u001b[0m*   \u001b[01;32mmontage_fuzz-EDIT.ipynb\u001b[0m*  \u001b[01;34mpreprocess\u001b[0m/\n",
      "\u001b[01;32mTrain_LSTM.ipynb\u001b[0m*  montage_fuzz-JSC.py       preprocess_my.py\n",
      "\u001b[01;34mfuzz\u001b[0m/              \u001b[01;32mmontage_fuzz.ipynb\u001b[0m*       \u001b[01;34mtrain\u001b[0m/\n"
     ]
    }
   ],
   "source": [
    "%ls"
   ]
  },
  {
   "cell_type": "code",
   "execution_count": 3,
   "id": "b33509a7-75a1-4f56-8960-1c915266c952",
   "metadata": {
    "vscode": {
     "languageId": "shellscript"
    }
   },
   "outputs": [],
   "source": [
    "import os, sys, shutil\n",
    "import threading\n",
    "import re\n",
    "\n",
    "from subprocess import Popen, PIPE\n",
    "from utils import kill_proc\n",
    "from utils.config import Config\n",
    "MAIN_PATH = '/home/jovyan/'\n",
    "CK_FIRST = {'lines': {'percent': '63.5', 'count': '171810', 'all': '270360'}, \n",
    "             'functions': {'percent': '35.2', 'count': '36617', 'all': '104156'}}\n",
    "JSC_FIRST = {'lines': {'percent': '51.5', 'count': '222199', 'all': '431062'}, \n",
    "             'functions': {'percent': '51.1', 'count': '125741', 'all': '245920'}}"
   ]
  },
  {
   "cell_type": "code",
   "execution_count": 78,
   "id": "cc308d9a-df1e-4bdb-a51d-1358f4bb4682",
   "metadata": {
    "vscode": {
     "languageId": "shellscript"
    }
   },
   "outputs": [],
   "source": [
    "conf = Config(MAIN_PATH+'js_generator/conf.json',MAIN_PATH)\n",
    "main_path = conf.main_path+'js_generator/'\n",
    "help_dir = conf.help_dir\n",
    "eng_path = conf.eng_path\n",
    "eng_exec = conf.eng_exec\n",
    "data_dir = conf.data_dir\n",
    "first_path=main_path+'CK_FIRST/'#'JSC_FIRST/'"
   ]
  },
  {
   "cell_type": "code",
   "execution_count": 79,
   "id": "d992c7af-a2c8-4dd8-861e-a621ad2423c4",
   "metadata": {
    "vscode": {
     "languageId": "shellscript"
    }
   },
   "outputs": [
    {
     "data": {
      "text/plain": [
       "'/home/jovyan/ChakraCore/'"
      ]
     },
     "execution_count": 79,
     "metadata": {},
     "output_type": "execute_result"
    }
   ],
   "source": [
    "eng_path"
   ]
  },
  {
   "cell_type": "code",
   "execution_count": 61,
   "id": "75c63811-b846-4ae6-b70b-c4ad76db584c",
   "metadata": {
    "vscode": {
     "languageId": "shellscript"
    }
   },
   "outputs": [
    {
     "name": "stdout",
     "output_type": "stream",
     "text": [
      "Неизвестная ошибка\n"
     ]
    }
   ],
   "source": [
    "#копирование gcda в движок\n",
    "with open(first_path+'_gcda_files.txt') as file:\n",
    "    files = file.read().split('\\n')\n",
    "for file_path in files:\n",
    "     #name = f.split('/')[-1]\n",
    "    name = os.path.basename(file_path)  # Извлекаем имя файла\n",
    "    dst = os.path.dirname(file_path)  # Извлекаем путь до файла\n",
    "    #print(name, dst)\n",
    "    if name != '':\n",
    "        try:\n",
    "            shutil.copy(first_path+name, dst)\n",
    "            #print(f\"Файл {first_path+name} скопирован в {dst}\")\n",
    "        except IOError as e:\n",
    "            print(f\"Ошибка при копировании файла {first_path+name}: {e}\")\n",
    "        except:\n",
    "            print(f\"Неизвестная ошибка\")\n",
    "    else:\n",
    "        print(f\"Неизвестная ошибка\")"
   ]
  },
  {
   "cell_type": "code",
   "execution_count": 15,
   "id": "18212cc5-5e78-48dc-b5f0-1b0ba86d751f",
   "metadata": {
    "vscode": {
     "languageId": "shellscript"
    }
   },
   "outputs": [
    {
     "name": "stdout",
     "output_type": "stream",
     "text": [
      "14148\n"
     ]
    }
   ],
   "source": [
    "from utils import list_dir\n",
    "seed_dir = data_dir+'/seed/'\n",
    "print(len(list_dir(seed_dir)))#%time "
   ]
  },
  {
   "cell_type": "code",
   "execution_count": 80,
   "id": "d8e16798-f7bb-47aa-8278-0b3168efe4bf",
   "metadata": {
    "vscode": {
     "languageId": "shellscript"
    }
   },
   "outputs": [],
   "source": [
    "sh_path = MAIN_PATH+'js_generator/My_Cov.sh'\n",
    "#My_Cov_zero.sh'"
   ]
  },
  {
   "cell_type": "code",
   "execution_count": 85,
   "id": "ffc39902-6af7-4941-9d38-918d8d041e27",
   "metadata": {
    "vscode": {
     "languageId": "shellscript"
    }
   },
   "outputs": [],
   "source": [
    "# функция запуска движка\n",
    "def get_cov(js_path):\n",
    "    cmd = [sh_path] + [eng_path] + [js_path]\n",
    "    # print(cmd)\n",
    "    try:\n",
    "        proc = Popen(cmd, stdout=PIPE, stderr=PIPE)  # stdin=PIPE,cwd=seed_dir, \n",
    "        # timer = threading.Timer(50, kill_proc, [proc])\n",
    "        # timer.start()  \n",
    "        # proc.wait()\n",
    "        stdout, stderr = proc.communicate()\n",
    "        # timer.cancel()\n",
    "        dct = {}\n",
    "        if stderr:\n",
    "            if 'Summary coverage rate:' in stderr.decode():\n",
    "                err = stderr.decode().split('Summary coverage rate:')[1]\n",
    "                num = re.findall(r'\\d+\\.\\d+|\\d+', err)\n",
    "                dct['lines'] = {\"percent\": float(num[0]),\"count\": int(num[1]),\"all\": int(num[2])}\n",
    "                dct['functions'] = {\"percent\": float(num[3]),\"count\": int(num[4]),\"all\": int(num[5])}\n",
    "                # print(dct)\n",
    "                return dct\n",
    "        if stdout:\n",
    "            if 'Summary coverage rate:' in stdout.decode():\n",
    "                out = stdout.decode().split('Summary coverage rate:')[1]\n",
    "                num = re.findall(r'\\d+\\.\\d+|\\d+', out)\n",
    "                dct['lines'] = {\"percent\": float(num[0]),\"count\": int(num[1]),\"all\": int(num[2])}\n",
    "                dct['functions'] = {\"percent\": float(num[3]),\"count\": int(num[4]),\"all\": int(num[5])}\n",
    "                # print(dct)\n",
    "                return dct\n",
    "                # print('stdout=' + out[1].split('\\n')[0] + out[2].split('\\n')[0])\n",
    "            # print('stdout=' + stdout.decode() +'\\n')\n",
    "            # if 'Overall coverage rate' in stdout.decode():\n",
    "            #     #print('stdout=' + stdout.decode() +'\\n')\n",
    "            # #pattern = r'lines*:'\n",
    "            # #stdout = str(stdout)\n",
    "            # #print(re.split(pattern, str(stdout)))\n",
    "            #     st = str(stdout).split('Overall coverage rate:\\\\n')[1].split('\\\\n')[:2]\n",
    "            #     dct = {}\n",
    "            #     for i in st:\n",
    "            #         v1 = i.split(':')[1].split('%')[0]\n",
    "            #         v2 = i.split(':')[1].split('%')[1].split('of')[0].replace('(','')\n",
    "            #         v3 = i.split(':')[1].split('%')[1].split('of')[1].split(' ')[1]\n",
    "            #         d2 = {'percent': v1, 'count': v2, 'all':v3}\n",
    "            #         dct[i.split(':')[0].replace('.', '').replace(' ', '')] = d2#.replace(' ', '')\n",
    "            #     #print([v.split('%') for v in dct.values()])\n",
    "            #     #print(dct)\n",
    "            #     return dct\n",
    "            # print('returncode=' + str(proc.returncode)+'\\n')\n",
    "        return 0\n",
    "\n",
    "    except Exception as err:\n",
    "        # pass\n",
    "        print('Popen_ERR=' + str(err)+'\\n')\n"
   ]
  },
  {
   "cell_type": "code",
   "execution_count": 88,
   "id": "a7d5f55e-776f-4822-b200-ebbdef7b2aff",
   "metadata": {
    "vscode": {
     "languageId": "shellscript"
    }
   },
   "outputs": [
    {
     "name": "stdout",
     "output_type": "stream",
     "text": [
      "Coverage: {'lines': {'percent': 63.6, 'count': 171815, 'all': 270360}, 'functions': {'percent': 35.2, 'count': 36619, 'all': 104156}}\n"
     ]
    }
   ],
   "source": [
    "d_pred = {}\n",
    "for js in list_dir(seed_dir)[50:99]:#[:20]\n",
    "    # print(js)\n",
    "    d = get_cov(js)\n",
    "    # with open(MAIN_PATH+'res.txt','a') as res:\n",
    "    #     res.write(f\"File {js} set coverage: {d}\")\n",
    "    # print(f\"File {js} set coverage: {d}\")\n",
    "print(f\"Coverage: {d}\")\n",
    "    # if d: \n",
    "    #     if d_pred != {}:\n",
    "    #         for key in d_pred.keys():\n",
    "    #             #for key1 in d.items():#for k,v in value.items():\n",
    "    #                 if d_pred[key]['percent'] < d[key]['percent']:                        \n",
    "    #                     print('INCREASED', key, d_pred[key], d[key])#['!!!'], \n",
    "    #                 elif d_pred[key]['percent'] > d[key]['percent']:  \n",
    "    #                     print('DECREASED', key, d_pred[key], d[key])#['!!!'], \n",
    "    #     d_pred = d\n",
    "    #     print('first', d_pred)\n",
    "    # else:\n",
    "    #     pass\n",
    "#get_cov('/home/jovyan/erokhina/My/Coverage/ChakraCore/out/Release/ /home/jovyan/erokhina/My/Coverage/seed/156177c65a441c73b0a20de342f5fef8.js')\n",
    "# print('END')"
   ]
  },
  {
   "cell_type": "code",
   "execution_count": 125,
   "id": "dc02307b-dcac-4212-af18-06be7533520c",
   "metadata": {
    "vscode": {
     "languageId": "shellscript"
    }
   },
   "outputs": [],
   "source": [
    "import json\n",
    "def get_value(json, key_path: list):\n",
    "    try:\n",
    "        if len(key_path) == 1:\n",
    "            #print('json[key_path[0]]'+json[key_path[0]])\n",
    "            return json[key_path[0]]\n",
    "        else:\n",
    "            return get_value(json[key_path.pop(0)], key_path)\n",
    "    except Exception:\n",
    "        print (\"Dose not found in a.json, but there is in b.json: \", key_path)\n",
    "        return -1\n",
    "    \n",
    "def get_jsons_diff_no_ordered(json_1, json_2, key_path: list):  \n",
    "    kp = key_path\n",
    "    for key in json_2.keys():\n",
    "        if type(json_2[key]) == int: # worck if field is num\n",
    "            if key != \"start_line\" and json_2[key] != 0: # filter fields to be changed AND check logic: 01->1 else 0\n",
    "                nkp = kp.copy()\n",
    "                nkp.append(key)\n",
    "                val = get_value(json_1, nkp)                \n",
    "                if val > 0: \n",
    "                    if val != json_2[key]:\n",
    "                        print(key, val, json_2[key])\n",
    "                    json_2[key] = 0 # change key's value using check logic \n",
    "        elif type(json_2[key]) == dict: # reiterate if field is dic\n",
    "            nkp = kp.copy()\n",
    "            nkp.append(key)         \n",
    "            get_jsons_diff_no_ordered(json_1, json_2[key], nkp) # iterate in deeper\n",
    "        else:\n",
    "            print (\"Unknown behaviour, need deep code check\") # should never be called\n",
    "    return json_2    "
   ]
  },
  {
   "cell_type": "code",
   "execution_count": 126,
   "id": "3f10d287-a338-46bf-84bd-8bd927f4a01f",
   "metadata": {
    "vscode": {
     "languageId": "shellscript"
    }
   },
   "outputs": [],
   "source": [
    "import json\n",
    "import os\n",
    "def get_cov2(json_path1,json_path2): \n",
    "    name = 'diff_'+json_path1.split('/')[::-1][0].split('_')[1]\n",
    "    with open(json_path1) as js1, open(json_path2) as js2:\n",
    "        json_1 = json.load(js1) \n",
    "        json_2 = json.load(js2) \n",
    "        try:\n",
    "            json_3 = get_jsons_diff_no_ordered(json_1, json_2, [])\n",
    "        except Exception:\n",
    "            print(f\"Something went wrong with calculatung diff:\\n\", traceback.format_exc())\n",
    "        else:  \n",
    "            with open('/home/jovyan/erokhina/My/Coverage/diff/'+name, \"w\") as json_file_3: \n",
    "                json.dump(json_3, json_file_3)\n",
    "                print(f\"Job was done\") "
   ]
  },
  {
   "cell_type": "code",
   "execution_count": 127,
   "id": "d41e0c3a-29e6-4ca4-b047-05ce8018be51",
   "metadata": {
    "vscode": {
     "languageId": "shellscript"
    }
   },
   "outputs": [
    {
     "name": "stdout",
     "output_type": "stream",
     "text": [
      "Job was done\n",
      "Job was done\n",
      "Job was done\n",
      "Job was done\n",
      "Job was done\n",
      "Job was done\n",
      "Job was done\n",
      "execution_count 21 16\n",
      "15 21 16\n",
      "18 21 16\n",
      "22 21 16\n",
      "111 2 3\n",
      "113 1 2\n",
      "1076 3 4\n",
      "1078 2 3\n",
      "1102 4 6\n",
      "1126 2 3\n",
      "1128 1 2\n",
      "1129 1 2\n",
      "1132 1 2\n",
      "1149 1 2\n",
      "1150 1 2\n",
      "1151 1 2\n",
      "1160 1 2\n",
      "1162 1 2\n",
      "1163 1 2\n",
      "1171 1 2\n",
      "1177 1 2\n",
      "1183 1 2\n",
      "1188 1 2\n",
      "1193 1 2\n",
      "1200 1 2\n",
      "1201 1 2\n",
      "1202 1 2\n",
      "1203 1 2\n",
      "1205 1 2\n",
      "execution_count 5 10\n",
      "6271 5 10\n",
      "6272 5 10\n",
      "89 6 4\n",
      "execution_count 8 4\n",
      "execution_count 2 1\n",
      "execution_count 2 1\n",
      "execution_count 4 1\n",
      "execution_count 2 1\n",
      "execution_count 2 1\n",
      "execution_count 3 1\n",
      "execution_count 2 1\n",
      "execution_count 2 1\n",
      "206 8 4\n",
      "208 8 4\n",
      "209 8 4\n",
      "210 8 4\n",
      "211 8 4\n",
      "212 8 4\n",
      "749 10 4\n",
      "750 10 4\n",
      "1913 9 4\n",
      "1916 10 4\n",
      "1923 9 4\n",
      "execution_count 123 121\n",
      "49 123 121\n",
      "51 123 121\n",
      "105 36 1\n",
      "107 36 1\n",
      "108 36 1\n",
      "117 40 58\n",
      "119 39 57\n",
      "125 39 57\n",
      "Job was done\n",
      "execution_count 16 21\n",
      "15 16 21\n",
      "18 16 21\n",
      "22 16 21\n",
      "111 3 2\n",
      "113 2 1\n",
      "1076 4 3\n",
      "1078 3 2\n",
      "1102 6 4\n",
      "1126 3 2\n",
      "1128 2 1\n",
      "1129 2 1\n",
      "1132 2 1\n",
      "1149 2 1\n",
      "1150 2 1\n",
      "1151 2 1\n",
      "1160 2 1\n",
      "1162 2 1\n",
      "1163 2 1\n",
      "1171 2 1\n",
      "1177 2 1\n",
      "1183 2 1\n",
      "1188 2 1\n",
      "1193 2 1\n",
      "1200 2 1\n",
      "1201 2 1\n",
      "1202 2 1\n",
      "1203 2 1\n",
      "1205 2 1\n",
      "execution_count 10 5\n",
      "6271 10 5\n",
      "6272 10 5\n",
      "89 4 6\n",
      "execution_count 4 8\n",
      "execution_count 1 4\n",
      "execution_count 1 2\n",
      "execution_count 1 2\n",
      "execution_count 1 2\n",
      "execution_count 1 2\n",
      "execution_count 1 2\n",
      "execution_count 1 3\n",
      "execution_count 1 2\n",
      "206 4 8\n",
      "208 4 8\n",
      "209 4 8\n",
      "210 4 8\n",
      "211 4 8\n",
      "212 4 8\n",
      "749 4 10\n",
      "750 4 10\n",
      "1913 4 9\n",
      "1916 4 10\n",
      "1923 4 9\n",
      "execution_count 121 123\n",
      "49 121 123\n",
      "51 121 123\n",
      "105 1 36\n",
      "107 1 36\n",
      "108 1 36\n",
      "117 58 40\n",
      "119 57 39\n",
      "125 57 39\n",
      "Job was done\n",
      "Job was done\n",
      "Job was done\n",
      "Job was done\n",
      "Job was done\n",
      "Job was done\n",
      "execution_count 2 3\n",
      "execution_count 4 6\n",
      "438 2 3\n",
      "492 4 6\n",
      "execution_count 2 3\n",
      "199 2 3\n",
      "201 2 3\n",
      "202 2 3\n",
      "203 2 3\n",
      "204 2 3\n",
      "205 2 3\n",
      "211 1 2\n",
      "213 2 3\n",
      "214 2 3\n",
      "216 2 3\n",
      "217 2 3\n",
      "219 2 3\n",
      "220 2 3\n",
      "221 2 3\n",
      "226 2 3\n",
      "228 2 3\n",
      "230 2 3\n",
      "231 2 3\n",
      "232 2 3\n",
      "233 4 6\n",
      "234 2 3\n",
      "Job was done\n",
      "execution_count 3 2\n",
      "execution_count 6 4\n",
      "438 3 2\n",
      "492 6 4\n",
      "execution_count 3 2\n",
      "199 3 2\n",
      "201 3 2\n",
      "202 3 2\n",
      "203 3 2\n",
      "204 3 2\n",
      "205 3 2\n",
      "211 2 1\n",
      "213 3 2\n",
      "214 3 2\n",
      "216 3 2\n",
      "217 3 2\n",
      "219 3 2\n",
      "220 3 2\n",
      "221 3 2\n",
      "226 3 2\n",
      "228 3 2\n",
      "230 3 2\n",
      "231 3 2\n",
      "232 3 2\n",
      "233 6 4\n",
      "234 3 2\n",
      "Job was done\n",
      "Job was done\n",
      "Job was done\n",
      "Job was done\n",
      "execution_count 2 7\n",
      "execution_count 4 14\n",
      "438 2 7\n",
      "492 4 14\n",
      "execution_count 2 7\n",
      "199 2 7\n",
      "201 2 7\n",
      "202 2 7\n",
      "203 2 7\n",
      "204 2 7\n",
      "205 2 7\n",
      "211 1 7\n",
      "213 2 7\n",
      "214 2 7\n",
      "216 2 7\n",
      "217 2 7\n",
      "219 2 7\n",
      "220 2 7\n",
      "221 2 7\n",
      "226 2 7\n",
      "228 2 7\n",
      "230 2 7\n",
      "231 2 7\n",
      "232 2 7\n",
      "233 4 14\n",
      "234 2 7\n",
      "Job was done\n"
     ]
    }
   ],
   "source": [
    "from utils import list_dir\n",
    "json_dir = '/home/jovyan/erokhina/My/Coverage/json/'\n",
    "l = list_dir(json_dir)#[:6]\n",
    "l1 = []\n",
    "for ll in l:\n",
    "    if ll.endswith('.json'):\n",
    "        l1.append(ll)\n",
    "for i in range(len(l1)-1):\n",
    "    get_cov2(l1[i],l1[i+1])"
   ]
  },
  {
   "cell_type": "code",
   "execution_count": null,
   "id": "2f4ddf36-1a04-4e38-860e-b50221a2e1ad",
   "metadata": {
    "vscode": {
     "languageId": "shellscript"
    }
   },
   "outputs": [],
   "source": []
  }
 ],
 "metadata": {
  "kernelspec": {
   "display_name": "venv",
   "language": "python",
   "name": "python3"
  },
  "language_info": {
   "codemirror_mode": {
    "name": "ipython",
    "version": 3
   },
   "file_extension": ".py",
   "mimetype": "text/x-python",
   "name": "python",
   "nbconvert_exporter": "python",
   "pygments_lexer": "ipython3",
   "version": "3.10.12"
  }
 },
 "nbformat": 4,
 "nbformat_minor": 5
}
